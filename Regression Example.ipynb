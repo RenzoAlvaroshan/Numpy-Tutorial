{
 "cells": [
  {
   "cell_type": "code",
   "execution_count": 1,
   "metadata": {},
   "outputs": [],
   "source": [
    "from __future__ import print_function, division\n",
    "from future.utils import iteritems\n",
    "from builtins import range, input"
   ]
  },
  {
   "cell_type": "code",
   "execution_count": 2,
   "metadata": {},
   "outputs": [],
   "source": [
    "import numpy as np\n",
    "import pandas as pd"
   ]
  },
  {
   "cell_type": "code",
   "execution_count": 3,
   "metadata": {},
   "outputs": [],
   "source": [
    "df = pd.read_csv('airfoil_self_noise.dat', sep='\\t', header=None)"
   ]
  },
  {
   "cell_type": "code",
   "execution_count": 4,
   "metadata": {},
   "outputs": [
    {
     "data": {
      "text/html": [
       "<div>\n",
       "<style scoped>\n",
       "    .dataframe tbody tr th:only-of-type {\n",
       "        vertical-align: middle;\n",
       "    }\n",
       "\n",
       "    .dataframe tbody tr th {\n",
       "        vertical-align: top;\n",
       "    }\n",
       "\n",
       "    .dataframe thead th {\n",
       "        text-align: right;\n",
       "    }\n",
       "</style>\n",
       "<table border=\"1\" class=\"dataframe\">\n",
       "  <thead>\n",
       "    <tr style=\"text-align: right;\">\n",
       "      <th></th>\n",
       "      <th>0</th>\n",
       "      <th>1</th>\n",
       "      <th>2</th>\n",
       "      <th>3</th>\n",
       "      <th>4</th>\n",
       "      <th>5</th>\n",
       "    </tr>\n",
       "  </thead>\n",
       "  <tbody>\n",
       "    <tr>\n",
       "      <td>0</td>\n",
       "      <td>800</td>\n",
       "      <td>0.0</td>\n",
       "      <td>0.3048</td>\n",
       "      <td>71.3</td>\n",
       "      <td>0.002663</td>\n",
       "      <td>126.201</td>\n",
       "    </tr>\n",
       "    <tr>\n",
       "      <td>1</td>\n",
       "      <td>1000</td>\n",
       "      <td>0.0</td>\n",
       "      <td>0.3048</td>\n",
       "      <td>71.3</td>\n",
       "      <td>0.002663</td>\n",
       "      <td>125.201</td>\n",
       "    </tr>\n",
       "    <tr>\n",
       "      <td>2</td>\n",
       "      <td>1250</td>\n",
       "      <td>0.0</td>\n",
       "      <td>0.3048</td>\n",
       "      <td>71.3</td>\n",
       "      <td>0.002663</td>\n",
       "      <td>125.951</td>\n",
       "    </tr>\n",
       "    <tr>\n",
       "      <td>3</td>\n",
       "      <td>1600</td>\n",
       "      <td>0.0</td>\n",
       "      <td>0.3048</td>\n",
       "      <td>71.3</td>\n",
       "      <td>0.002663</td>\n",
       "      <td>127.591</td>\n",
       "    </tr>\n",
       "    <tr>\n",
       "      <td>4</td>\n",
       "      <td>2000</td>\n",
       "      <td>0.0</td>\n",
       "      <td>0.3048</td>\n",
       "      <td>71.3</td>\n",
       "      <td>0.002663</td>\n",
       "      <td>127.461</td>\n",
       "    </tr>\n",
       "  </tbody>\n",
       "</table>\n",
       "</div>"
      ],
      "text/plain": [
       "      0    1       2     3         4        5\n",
       "0   800  0.0  0.3048  71.3  0.002663  126.201\n",
       "1  1000  0.0  0.3048  71.3  0.002663  125.201\n",
       "2  1250  0.0  0.3048  71.3  0.002663  125.951\n",
       "3  1600  0.0  0.3048  71.3  0.002663  127.591\n",
       "4  2000  0.0  0.3048  71.3  0.002663  127.461"
      ]
     },
     "execution_count": 4,
     "metadata": {},
     "output_type": "execute_result"
    }
   ],
   "source": [
    "df.head()"
   ]
  },
  {
   "cell_type": "code",
   "execution_count": 5,
   "metadata": {},
   "outputs": [
    {
     "name": "stdout",
     "output_type": "stream",
     "text": [
      "<class 'pandas.core.frame.DataFrame'>\n",
      "RangeIndex: 1503 entries, 0 to 1502\n",
      "Data columns (total 6 columns):\n",
      "0    1503 non-null int64\n",
      "1    1503 non-null float64\n",
      "2    1503 non-null float64\n",
      "3    1503 non-null float64\n",
      "4    1503 non-null float64\n",
      "5    1503 non-null float64\n",
      "dtypes: float64(5), int64(1)\n",
      "memory usage: 70.6 KB\n"
     ]
    }
   ],
   "source": [
    "df.info()"
   ]
  },
  {
   "cell_type": "code",
   "execution_count": 6,
   "metadata": {},
   "outputs": [],
   "source": [
    "data = df[[0,1,2,3,4]].values"
   ]
  },
  {
   "cell_type": "code",
   "execution_count": 7,
   "metadata": {},
   "outputs": [],
   "source": [
    "target = df[5].values"
   ]
  },
  {
   "cell_type": "code",
   "execution_count": 8,
   "metadata": {},
   "outputs": [],
   "source": [
    "from sklearn.model_selection import train_test_split"
   ]
  },
  {
   "cell_type": "code",
   "execution_count": 9,
   "metadata": {},
   "outputs": [],
   "source": [
    "X_train, X_test, y_train, y_test = train_test_split(data, target, test_size=0.33)"
   ]
  },
  {
   "cell_type": "code",
   "execution_count": 10,
   "metadata": {},
   "outputs": [],
   "source": [
    "from sklearn.linear_model import LinearRegression"
   ]
  },
  {
   "cell_type": "code",
   "execution_count": 13,
   "metadata": {},
   "outputs": [],
   "source": [
    "model = LinearRegression()"
   ]
  },
  {
   "cell_type": "code",
   "execution_count": 14,
   "metadata": {},
   "outputs": [
    {
     "data": {
      "text/plain": [
       "LinearRegression(copy_X=True, fit_intercept=True, n_jobs=None, normalize=False)"
      ]
     },
     "execution_count": 14,
     "metadata": {},
     "output_type": "execute_result"
    }
   ],
   "source": [
    "model.fit(X_train, y_train)"
   ]
  },
  {
   "cell_type": "code",
   "execution_count": 16,
   "metadata": {},
   "outputs": [
    {
     "name": "stdout",
     "output_type": "stream",
     "text": [
      "0.4926988267614704\n"
     ]
    }
   ],
   "source": [
    "print(model.score(X_train, y_train))"
   ]
  },
  {
   "cell_type": "code",
   "execution_count": 17,
   "metadata": {},
   "outputs": [
    {
     "name": "stdout",
     "output_type": "stream",
     "text": [
      "0.5563636211599075\n"
     ]
    }
   ],
   "source": [
    "print(model.score(X_test, y_test))"
   ]
  },
  {
   "cell_type": "code",
   "execution_count": 18,
   "metadata": {},
   "outputs": [],
   "source": [
    "predictions = model.predict(X_test)"
   ]
  },
  {
   "cell_type": "code",
   "execution_count": 19,
   "metadata": {},
   "outputs": [
    {
     "data": {
      "text/plain": [
       "array([120.92530948, 125.98401051, 127.06926024, 129.72158286,\n",
       "       125.719099  , 132.29920586, 125.38384136, 120.75310982,\n",
       "       119.88634105, 123.76326508, 131.65135574, 128.63786914,\n",
       "       122.36985984, 120.02344327, 125.35809044, 121.87897048,\n",
       "       121.55889555, 124.50453888, 117.20033037, 130.23748343,\n",
       "       116.90125959, 121.96706009, 129.32857709, 132.36672764,\n",
       "       131.86767269, 122.53255985, 129.20716923, 123.00737405,\n",
       "       126.72778317, 124.70463279, 115.89918594, 132.53841424,\n",
       "       124.49084335, 118.02325712, 124.45463237, 130.66171279,\n",
       "       121.01375362, 122.42325842, 134.27996372, 117.7441886 ,\n",
       "       122.70643144, 123.7754369 , 124.8666568 , 124.08034117,\n",
       "       120.62074785, 128.72701154, 131.68313316, 122.03682404,\n",
       "       132.01747752, 122.65250564, 119.25663336, 124.84873327,\n",
       "       127.03973604, 125.18605671, 127.60383769, 123.12660784,\n",
       "       128.35272033, 122.32585295, 118.8258493 , 133.39110359,\n",
       "       128.75720783, 124.07846612, 124.22193417, 124.04475727,\n",
       "       120.27307486, 129.54640817, 127.26546804, 117.57821193,\n",
       "       129.68087919, 124.86650733, 123.68253246, 125.6419775 ,\n",
       "       131.01649118, 123.8713876 , 122.22291007, 126.66522545,\n",
       "       126.59515804, 131.71862967, 113.79162436, 124.65663788,\n",
       "       104.39808298, 127.76787646, 125.109643  , 125.0202948 ,\n",
       "       119.8120886 , 124.31115408, 121.50788236, 115.5784018 ,\n",
       "       129.88769167, 123.87640182, 126.1500171 , 130.7711064 ,\n",
       "       126.10396448, 114.90416372, 122.71901436, 122.44219236,\n",
       "       117.02205956, 126.29381846, 119.50845949, 124.11255446,\n",
       "       124.56896822, 133.67152288, 125.82552484, 123.14461314,\n",
       "       132.39646129, 116.16363832, 135.18280505, 130.52383124,\n",
       "       125.90427524, 131.65982268, 126.83665824, 121.50169224,\n",
       "       127.66343715, 127.94684635, 124.04681   , 131.09838587,\n",
       "       123.42339297, 130.06313838, 117.79240349, 128.28725583,\n",
       "       126.85247286, 122.57731421, 126.8033354 , 126.19089679,\n",
       "       130.0247763 , 118.6470758 , 125.41806099, 119.41136189,\n",
       "       122.3001177 , 127.14637022, 117.63785067, 124.99891111,\n",
       "       120.22232618, 123.02568618, 123.15724414, 119.81674648,\n",
       "       125.05031102, 125.09594747, 123.92330747, 125.8731951 ,\n",
       "       127.19213221, 136.40094724, 133.09985105, 126.38330354,\n",
       "       120.96172071, 128.12476061, 127.40901627, 129.19448371,\n",
       "       122.90660055, 122.05598136, 123.39993502, 132.86064268,\n",
       "       126.18453094, 109.84947933, 125.0861535 , 116.72357216,\n",
       "       133.31134901, 126.55380793, 120.36627979, 126.13353222,\n",
       "       132.76728491, 127.43853415, 124.69612946, 128.31047982,\n",
       "       129.46108717, 122.27644757, 118.62527357, 129.21883366,\n",
       "       126.10562188, 112.98445492, 125.90527942, 119.25576721,\n",
       "       123.03038721, 123.14264079, 130.55242948, 124.11686205,\n",
       "       120.69141632, 122.72196502, 130.29501048, 119.20675954,\n",
       "       119.83649909, 125.41038   , 123.88363553, 129.61366475,\n",
       "       126.25606628, 123.55965856, 131.14964207, 120.35132081,\n",
       "       127.06154211, 124.39225051, 125.16085252, 129.93380888,\n",
       "       128.60404896, 127.83714498, 120.9137258 , 129.79346083,\n",
       "       130.78290165, 128.40091639, 118.39446066, 127.39589769,\n",
       "       123.26984983, 129.10741149, 130.44178308, 126.20406574,\n",
       "       120.90466029, 125.43652203, 120.8416646 , 124.38708376,\n",
       "       125.80522551, 113.34915122, 118.54837451, 119.67767212,\n",
       "       132.04569702, 113.96134981, 129.30175541, 124.08081411,\n",
       "       124.85798452, 123.31863002, 124.54069368, 122.5736163 ,\n",
       "       127.33228458, 122.40249769, 123.14670278, 126.23784556,\n",
       "       120.10192656, 128.30917947, 134.32683162, 124.26207617,\n",
       "       125.45086721, 125.71735425, 127.86820321, 124.97939614,\n",
       "       126.33750062, 126.8555555 , 124.82112767, 123.9490584 ,\n",
       "       129.93681445, 123.21469745, 127.16611364, 126.58370216,\n",
       "       114.32269643, 129.85999594, 131.69301871, 118.41290868,\n",
       "       125.31414842, 120.66196942, 123.50268412, 129.01183383,\n",
       "       126.1661705 , 130.8695369 , 125.11482072, 127.22954648,\n",
       "       118.11591102, 123.02951024, 117.54201041, 119.29096227,\n",
       "       128.13790365, 121.89500343, 124.62728904, 117.05541926,\n",
       "       122.39062013, 121.98580124, 120.89282305, 126.0747875 ,\n",
       "       126.80892312, 124.53165335, 124.31224921, 121.96331806,\n",
       "       124.5216954 , 117.17081371, 123.49273346, 125.64036081,\n",
       "       119.63023619, 125.19073943, 123.42154416, 122.40067951,\n",
       "       116.10354833, 112.28364906, 129.13601354, 118.1961416 ,\n",
       "       130.0259503 , 121.56154895, 114.40598487, 127.19140419,\n",
       "       123.74015723, 124.62060786, 126.6057278 , 133.3119494 ,\n",
       "       117.32867628, 126.48958027, 121.94455544, 121.56325848,\n",
       "       126.57608883, 123.45111189, 133.82007515, 122.53342546,\n",
       "       132.40850768, 132.30695184, 127.10189853, 126.15380272,\n",
       "       122.79676552, 131.64307206, 117.21229284, 125.92714855,\n",
       "       129.49076995, 126.80771145, 128.01405046, 117.55318519,\n",
       "       119.67366463, 126.83446087, 116.4362221 , 126.28186421,\n",
       "       109.89348622, 125.85714538, 127.27322864, 119.06627422,\n",
       "       125.55633588, 130.73965916, 127.30239035, 122.27594815,\n",
       "       127.65891618, 127.01503003, 126.72287682, 128.09279428,\n",
       "       125.63791552, 119.25977924, 126.8525469 , 129.61553368,\n",
       "       115.62211592, 120.09966426, 124.87414737, 121.28908205,\n",
       "       124.4708587 , 124.96877184, 131.109969  , 127.63884871,\n",
       "       127.23816268, 125.41680398, 125.42809361, 126.24189859,\n",
       "       123.72287923, 129.76860604, 123.45652248, 127.20643964,\n",
       "       128.55870694, 124.54434374, 128.56403976, 130.58269455,\n",
       "       128.58999333, 124.45931353, 123.38719145, 125.10139123,\n",
       "       126.88575179, 125.77616649, 119.32188728, 113.01257962,\n",
       "       125.08986326, 119.97996714, 109.86156667, 130.63252695,\n",
       "       121.19514927, 123.50934432, 121.16820305, 121.54691376,\n",
       "       124.46604458, 130.48615032, 127.03998956, 120.15302454,\n",
       "       121.23648405, 125.99863719, 130.26766099, 116.8744566 ,\n",
       "       128.71940794, 125.56007409, 128.79973548, 119.57571794,\n",
       "       124.86513456, 127.80162559, 115.62320508, 121.4422974 ,\n",
       "       126.33785107, 126.88555288, 126.85525527, 120.97633228,\n",
       "       121.62158732, 120.94324245, 127.87543369, 122.4784322 ,\n",
       "       126.03319773, 126.03008442, 123.1921928 , 121.49071484,\n",
       "       132.70837063, 127.17762661, 119.72869492, 126.92625334,\n",
       "       120.78294071, 130.97886754, 128.77080529, 126.65263686,\n",
       "       122.43500842, 124.46394989, 124.78935025, 119.78067343,\n",
       "       123.09189211, 133.62685662, 123.59721117, 123.65508029,\n",
       "       121.14298277, 125.28867436, 128.27144121, 125.34306304,\n",
       "       123.53871404, 127.01543375, 122.56876138, 124.64986425,\n",
       "       123.56687127, 114.17269843, 127.70214112, 120.62326511,\n",
       "       130.23871419, 129.86319222, 124.0328192 , 122.92241517,\n",
       "       130.77142738, 121.43565405, 128.02626294, 125.20368774,\n",
       "       126.37464018, 128.74523159, 124.27216793, 121.3451998 ,\n",
       "       129.51868633, 111.05360503, 120.72574524, 123.70604996,\n",
       "       127.9867451 , 121.38237895, 124.91424563, 131.24385401,\n",
       "       121.00882742, 126.27071162, 120.79833134, 130.83691458,\n",
       "       122.49614581, 122.60298602, 119.53293176, 124.85632712,\n",
       "       118.46597304, 128.16239028, 124.27266734, 130.27858221,\n",
       "       125.82162288, 123.91321516, 120.69730534, 124.7863514 ,\n",
       "       127.99727013, 128.8577328 , 125.1770439 , 129.81167712,\n",
       "       130.26198288, 120.18155895, 121.8035901 , 126.52915897,\n",
       "       118.76875187, 133.26511488, 117.75878015, 113.28223515,\n",
       "       126.93368686, 120.25405487, 131.86345409, 124.76002268,\n",
       "       126.56559031, 109.38863243, 120.71988285, 126.70085257,\n",
       "       121.41794044, 132.06371165, 125.15346392, 130.63627409,\n",
       "       128.88958178, 128.2669314 , 123.5893725 , 126.3977878 ,\n",
       "       112.78009253, 123.82125366, 124.65860725, 121.19047127,\n",
       "       127.79128352, 128.33619993, 127.74018447, 118.30615694,\n",
       "       125.60118544, 122.93716357, 129.36094099, 123.23774216])"
      ]
     },
     "execution_count": 19,
     "metadata": {},
     "output_type": "execute_result"
    }
   ],
   "source": [
    "predictions"
   ]
  },
  {
   "cell_type": "code",
   "execution_count": 20,
   "metadata": {},
   "outputs": [],
   "source": [
    "from sklearn.ensemble import RandomForestRegressor"
   ]
  },
  {
   "cell_type": "code",
   "execution_count": 23,
   "metadata": {},
   "outputs": [],
   "source": [
    "model2 = RandomForestRegressor()"
   ]
  },
  {
   "cell_type": "code",
   "execution_count": 24,
   "metadata": {},
   "outputs": [
    {
     "name": "stderr",
     "output_type": "stream",
     "text": [
      "/opt/anaconda3/lib/python3.7/site-packages/sklearn/ensemble/forest.py:245: FutureWarning: The default value of n_estimators will change from 10 in version 0.20 to 100 in 0.22.\n",
      "  \"10 in version 0.20 to 100 in 0.22.\", FutureWarning)\n"
     ]
    },
    {
     "data": {
      "text/plain": [
       "RandomForestRegressor(bootstrap=True, criterion='mse', max_depth=None,\n",
       "                      max_features='auto', max_leaf_nodes=None,\n",
       "                      min_impurity_decrease=0.0, min_impurity_split=None,\n",
       "                      min_samples_leaf=1, min_samples_split=2,\n",
       "                      min_weight_fraction_leaf=0.0, n_estimators=10,\n",
       "                      n_jobs=None, oob_score=False, random_state=None,\n",
       "                      verbose=0, warm_start=False)"
      ]
     },
     "execution_count": 24,
     "metadata": {},
     "output_type": "execute_result"
    }
   ],
   "source": [
    "model2.fit(X_train, y_train)"
   ]
  },
  {
   "cell_type": "code",
   "execution_count": 25,
   "metadata": {},
   "outputs": [
    {
     "name": "stdout",
     "output_type": "stream",
     "text": [
      "0.9825826083507543\n"
     ]
    }
   ],
   "source": [
    "print(model2.score(X_train, y_train))"
   ]
  },
  {
   "cell_type": "code",
   "execution_count": 27,
   "metadata": {},
   "outputs": [
    {
     "name": "stdout",
     "output_type": "stream",
     "text": [
      "0.9112975880249506\n"
     ]
    }
   ],
   "source": [
    "print(model2.score(X_test, y_test))"
   ]
  },
  {
   "cell_type": "code",
   "execution_count": 29,
   "metadata": {},
   "outputs": [],
   "source": [
    "from sklearn.neural_network import MLPRegressor"
   ]
  },
  {
   "cell_type": "code",
   "execution_count": 31,
   "metadata": {},
   "outputs": [],
   "source": [
    "from sklearn.preprocessing import StandardScaler"
   ]
  },
  {
   "cell_type": "code",
   "execution_count": 33,
   "metadata": {},
   "outputs": [],
   "source": [
    "scaler = StandardScaler()\n",
    "X_train2 = scaler.fit_transform(X_train)\n",
    "X_test2 = scaler.transform(X_test)\n",
    "scaler2 = StandardScaler()\n",
    "y_train2 = scaler2.fit_transform(np.expand_dims(y_train, -1)).ravel()\n",
    "y_test2 = scaler2.fit_transform(np.expand_dims(y_test, -1)).ravel()"
   ]
  },
  {
   "cell_type": "code",
   "execution_count": 34,
   "metadata": {},
   "outputs": [],
   "source": [
    "model = MLPRegressor(max_iter=500)"
   ]
  },
  {
   "cell_type": "code",
   "execution_count": 35,
   "metadata": {},
   "outputs": [
    {
     "data": {
      "text/plain": [
       "MLPRegressor(activation='relu', alpha=0.0001, batch_size='auto', beta_1=0.9,\n",
       "             beta_2=0.999, early_stopping=False, epsilon=1e-08,\n",
       "             hidden_layer_sizes=(100,), learning_rate='constant',\n",
       "             learning_rate_init=0.001, max_iter=500, momentum=0.9,\n",
       "             n_iter_no_change=10, nesterovs_momentum=True, power_t=0.5,\n",
       "             random_state=None, shuffle=True, solver='adam', tol=0.0001,\n",
       "             validation_fraction=0.1, verbose=False, warm_start=False)"
      ]
     },
     "execution_count": 35,
     "metadata": {},
     "output_type": "execute_result"
    }
   ],
   "source": [
    "model.fit(X_train2, y_train2)"
   ]
  },
  {
   "cell_type": "code",
   "execution_count": 36,
   "metadata": {},
   "outputs": [
    {
     "name": "stdout",
     "output_type": "stream",
     "text": [
      "0.8571998162050394\n"
     ]
    }
   ],
   "source": [
    "print(model.score(X_train2, y_train2))"
   ]
  },
  {
   "cell_type": "code",
   "execution_count": 37,
   "metadata": {},
   "outputs": [
    {
     "name": "stdout",
     "output_type": "stream",
     "text": [
      "0.8316710183181614\n"
     ]
    }
   ],
   "source": [
    "print(model.score(X_test2, y_test2))"
   ]
  }
 ],
 "metadata": {
  "kernelspec": {
   "display_name": "Python 3",
   "language": "python",
   "name": "python3"
  },
  "language_info": {
   "codemirror_mode": {
    "name": "ipython",
    "version": 3
   },
   "file_extension": ".py",
   "mimetype": "text/x-python",
   "name": "python",
   "nbconvert_exporter": "python",
   "pygments_lexer": "ipython3",
   "version": "3.7.4"
  }
 },
 "nbformat": 4,
 "nbformat_minor": 2
}
